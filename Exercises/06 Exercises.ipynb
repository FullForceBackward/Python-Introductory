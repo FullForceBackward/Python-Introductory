{
 "cells": [
  {
   "cell_type": "markdown",
   "metadata": {
    "deletable": false,
    "editable": false,
    "nbgrader": {
     "checksum": "8969a6543eebd1c7db89a71bb75e61ee",
     "grade": false,
     "grade_id": "cell-7b3313f25bceb7a2",
     "locked": true,
     "schema_version": 1,
     "solution": false
    }
   },
   "source": [
    "## Exercise 06.1 (selecting and passing data structures)\n",
    "\n",
    "The task in Exercise 04 for computing the area of a triangle involved a function with six arguments ($x$ and $y$ components of each vertex). With six arguments, the likelihood of a user passing arguments in the wrong order is high. \n",
    "\n",
    "Use an appropriate data structure, e.g. a `list`, `tuple`, `dict`, etc,  to develop a new version of the function with a simpler interface (the interface is the arguments that are passed to the function). Add appropriate checks inside your function to validate the input data."
   ]
  },
  {
   "cell_type": "code",
   "execution_count": 14,
   "metadata": {
    "deletable": false,
    "nbgrader": {
     "checksum": "93c53f411edb621595bc865f6c79cbaf",
     "grade": false,
     "grade_id": "cell-50c4566d7bcbffaf",
     "locked": false,
     "schema_version": 1,
     "solution": true
    }
   },
   "outputs": [
    {
     "name": "stdout",
     "output_type": "stream",
     "text": [
      "[[0 0 1]\n",
      " [0 1 1]\n",
      " [1 0 1]]\n",
      "0.5\n",
      "CPU times: user 4 ms, sys: 0 ns, total: 4 ms\n",
      "Wall time: 1.69 ms\n"
     ]
    }
   ],
   "source": [
    "import numpy as np\n",
    "\n",
    "def area(points):\n",
    "    # check if the points list enter contains exactly three points \n",
    "    if len(points) != 3:\n",
    "        print(\"input does not has three points\")\n",
    "        return\n",
    "    \n",
    "    # a fantastic application of list comprhension in matrix genertaion with np.\n",
    "    area_matrix = np.array([[x[0], x[1], 1] for x in points])\n",
    "    print(area_matrix)\n",
    "    return abs(np.linalg.det(area_matrix)) / 2\n",
    "\n",
    "points = [(0, 0), (0, 1), (1, 0)]\n",
    "%time print(area(points))"
   ]
  },
  {
   "cell_type": "markdown",
   "metadata": {
    "deletable": false,
    "editable": false,
    "nbgrader": {
     "checksum": "538793e1776653182d193a7700588461",
     "grade": false,
     "grade_id": "cell-5065052af9989fdf",
     "locked": true,
     "schema_version": 1,
     "solution": false
    }
   },
   "source": [
    "## Exercise 06.2 (selecting data structures)\n",
    "\n",
    "For a simple (non-intersecting) polygon with $n$ vertices, $(x_0, y_0)$, $(x_1, y_1)$, . . , $(x_{n-1}, y_{n-1})$, the area $A$ is given by\n",
    "$$\n",
    "A = \\left| \\frac{1}{2} \\sum_{i=0}^{n-1} \\left(x_{i} y _{i+1} - x_{i+1} y_{i} \\right) \\right|\n",
    "$$\n",
    "and where $(x_n, y_n) = (x_0, y_0)$. The vertices should be ordered as you move around the polygon.\n",
    "\n",
    "Write a function that computes the area of a simple polygon with an arbitrary number of vertices. Test your function for some simple shapes. Pay careful attention to the range of any loops."
   ]
  },
  {
   "cell_type": "code",
   "execution_count": 23,
   "metadata": {
    "deletable": false,
    "nbgrader": {
     "checksum": "3c6fe94718310475d875ec60534199eb",
     "grade": false,
     "grade_id": "cell-4b5a619405787746",
     "locked": false,
     "schema_version": 1,
     "solution": true
    }
   },
   "outputs": [
    {
     "name": "stdout",
     "output_type": "stream",
     "text": [
      "0.5\n",
      "CPU times: user 0 ns, sys: 0 ns, total: 0 ns\n",
      "Wall time: 210 µs\n"
     ]
    }
   ],
   "source": [
    "def area_polygon(points):\n",
    "    is_first = True\n",
    "    sum = 0.0\n",
    "    prev_point = ()\n",
    "    for cur_point in points:\n",
    "        if not is_first:\n",
    "            sum += 1/2 * (prev_point[0]*cur_point[1] - prev_point[1]*cur_point[0])\n",
    "        else:\n",
    "            is_first = False\n",
    "        prev_point = cur_point\n",
    "    return abs(sum)\n",
    "\n",
    "points = [(0, 0), (0, 1), (1, 0)]\n",
    "%time print(area_polygon(points))"
   ]
  },
  {
   "cell_type": "markdown",
   "metadata": {
    "deletable": false,
    "editable": false,
    "nbgrader": {
     "checksum": "31a71dcd54f996f2f798df30114b9faf",
     "grade": false,
     "grade_id": "cell-ced99a38c7bbe7a0",
     "locked": true,
     "schema_version": 1,
     "solution": false
    }
   },
   "source": [
    "## Exercise 06.3 (indexing)\n",
    "\n",
    "Write a function that uses list indexing to add two vectors of arbitrary length, and returns the new vector. Include a check that the vector sizes match, and print a warning message if there is a size mismatch. The more error information you provide, the easier it would be for someone using your function to debug their code.\n",
    "\n",
    "Add some tests of your code.\n",
    "\n",
    "#### Hint: You can create a list of zeros of length `n` by\n",
    "\n",
    "    z = [0]*n\n",
    "    \n",
    "#### Optional (advanced) \n",
    "\n",
    "Try writing a one-line version of this operation using list comprehension and the built-in function [`zip`](https://docs.python.org/3/library/functions.html#zip)."
   ]
  },
  {
   "cell_type": "code",
   "execution_count": 25,
   "metadata": {
    "deletable": false,
    "nbgrader": {
     "checksum": "66ea7d534bb1cbabf82dbcbb69e4dd02",
     "grade": false,
     "grade_id": "cell-47daca03f7a96b62",
     "locked": false,
     "schema_version": 1,
     "solution": true
    }
   },
   "outputs": [],
   "source": [
    "def sum_vector(x, y):\n",
    "    \"Return sum of two vectors\"\n",
    "    if len(x) != len(y):\n",
    "        assert \"The dimension of input vectors are different\"\n",
    "        return\n",
    "    \n",
    "    sum = []\n",
    "    for i in range(len(x)):\n",
    "        sum.append(x[i] + y[i])\n",
    "    return sum"
   ]
  },
  {
   "cell_type": "code",
   "execution_count": 26,
   "metadata": {
    "collapsed": true,
    "deletable": false,
    "editable": false,
    "nbgrader": {
     "checksum": "9b3d802cdb7440be47952667335f5cc7",
     "grade": true,
     "grade_id": "cell-95f5819810d2b2c7",
     "locked": true,
     "points": 0,
     "schema_version": 1,
     "solution": false
    }
   },
   "outputs": [],
   "source": [
    "a = [0, 4.3, -5, 7]\n",
    "b = [-2, 7, -15, 1]\n",
    "c = sum_vector(a, b)\n",
    "assert c == [-2, 11.3, -20, 8]"
   ]
  },
  {
   "cell_type": "markdown",
   "metadata": {},
   "source": [
    "### Extension: list comprehension"
   ]
  },
  {
   "cell_type": "code",
   "execution_count": 47,
   "metadata": {
    "deletable": false,
    "nbgrader": {
     "checksum": "3ace0d343b7871c30f7776e20669bf3e",
     "grade": true,
     "grade_id": "cell-c182b3f0d8952692",
     "locked": false,
     "points": 0,
     "schema_version": 1,
     "solution": true
    }
   },
   "outputs": [
    {
     "name": "stdout",
     "output_type": "stream",
     "text": [
      "CPU times: user 0 ns, sys: 0 ns, total: 0 ns\n",
      "Wall time: 15 µs\n"
     ]
    },
    {
     "data": {
      "text/plain": [
       "[-2, 11.3, -20, 8]"
      ]
     },
     "execution_count": 47,
     "metadata": {},
     "output_type": "execute_result"
    }
   ],
   "source": [
    "def sum_vector_zip(x, y):\n",
    "    \"This function will sum the vectors and round to the lowest dimention of the input vectors regardlessly\"\n",
    "    return [a[0] + a[1] for a in zip(x, y)]\n",
    "\n",
    "a = [0, 4.3, -5, 7]\n",
    "b = [-2, 7, -15, 1]\n",
    "%time c = sum_vector_zip(a, b)\n",
    "c"
   ]
  },
  {
   "cell_type": "markdown",
   "metadata": {},
   "source": [
    "## Exercise 06.4 (dictionaries)\n",
    "\n",
    "Create a dictionary that maps college names (the key) to college abbreviations for at least 5 colleges\n",
    "(you can find abbreviations at https://en.wikipedia.org/wiki/Colleges_of_the_University_of_Cambridge#Colleges).\n",
    "From the dictionary, produce and print\n",
    "\n",
    "1. A dictionary from college abbreviation to name; and\n",
    "1. A list of college abbreviations sorted into alphabetical order.\n",
    "\n",
    "*Optional extension:* Create a dictionary that maps college names (the key) to dictionaries of:\n",
    "\n",
    "- College abbreviation\n",
    "- Year of foundation \n",
    "- Total number students\n",
    " \n",
    "for at least 5 colleges. Take the data from https://en.wikipedia.org/wiki/Colleges_of_the_University_of_Cambridge#Colleges. Using this dictionary, \n",
    "\n",
    "1. Find the college with the greatest number of students and print the abbreviation; and \n",
    "2. Find the oldest college, and print the number of students and the abbreviation for this college."
   ]
  },
  {
   "cell_type": "code",
   "execution_count": 54,
   "metadata": {
    "deletable": false,
    "nbgrader": {
     "checksum": "892cc4fd98d0f8cc393eff925b5d6b13",
     "grade": false,
     "grade_id": "cell-bc271dc3885e19c5",
     "locked": false,
     "schema_version": 1,
     "solution": true
    }
   },
   "outputs": [
    {
     "name": "stdout",
     "output_type": "stream",
     "text": [
      "{'CL': 'Clare', 'CC': 'Corpus Christi', 'CLH': 'Clare Hall', 'CHU': 'Churchill', 'CHR': \"Christ's\"}\n",
      "['CC', 'CHR', 'CHU', 'CL', 'CLH']\n"
     ]
    }
   ],
   "source": [
    "abb_to_name = {}\n",
    "abb_to_name[\"CHR\"] = \"Christ's\"\n",
    "abb_to_name[\"CHU\"] = \"Churchill\"\n",
    "abb_to_name[\"CL\"] = \"Clare\"\n",
    "abb_to_name[\"CLH\"] = \"Clare Hall\"\n",
    "abb_to_name[\"CC\"] = \"Corpus Christi\"\n",
    "\n",
    "abb_sorted = sorted([x for x in abb_to_name])\n",
    "\n",
    "print(abb_to_name)\n",
    "print(abb_sorted)"
   ]
  },
  {
   "cell_type": "code",
   "execution_count": 62,
   "metadata": {},
   "outputs": [
    {
     "data": {
      "text/plain": [
       "{\"Christ's\": {'College abbreviation': 'CHR',\n",
       "  'Total number students': 541,\n",
       "  'Year of foundation': 1505},\n",
       " 'Churchill': {'College abbreviation': 'CHU',\n",
       "  'Total number students': 704,\n",
       "  'Year of foundation': 1960},\n",
       " 'Clare': {'College abbreviation': 'CL',\n",
       "  'Total number students': 655,\n",
       "  'Year of foundation': 1326},\n",
       " 'Clare Hall': {'College abbreviation': 'CLH',\n",
       "  'Total number students': 150,\n",
       "  'Year of foundation': 1966},\n",
       " 'Corpus Christi': {'College abbreviation': 'CC',\n",
       "  'Total number students': 467,\n",
       "  'Year of foundation': 1352}}"
      ]
     },
     "execution_count": 62,
     "metadata": {},
     "output_type": "execute_result"
    }
   ],
   "source": [
    "name_to_many = {}\n",
    "name_to_many[\"Christ's\"] = (\"CHR\", 1505, 541)\n",
    "name_to_many[\"Churchill\"] = (\"CHU\", 1960, 704)\n",
    "name_to_many[\"Clare\"] = (\"CL\", 1326, 655)\n",
    "name_to_many[\"Clare Hall\"] = (\"CLH\", 1966, 150)\n",
    "name_to_many[\"Corpus Christi\"] = (\"CC\", 1352, 467)\n",
    "\n",
    "for x in name_to_many:\n",
    "    many_dic = {}\n",
    "    many_dic[\"College abbreviation\"] = name_to_many[x][0]\n",
    "    many_dic[\"Year of foundation\"] = name_to_many[x][1]\n",
    "    many_dic[\"Total number students\"] = name_to_many[x][2]\n",
    "    name_to_many[x] = many_dic\n",
    "\n",
    "name_to_many"
   ]
  },
  {
   "cell_type": "markdown",
   "metadata": {
    "deletable": false,
    "editable": false,
    "nbgrader": {
     "checksum": "ee373920fe2377cf230967db220ba75a",
     "grade": false,
     "grade_id": "cell-45d2551a524193b0",
     "locked": true,
     "schema_version": 1,
     "solution": false
    }
   },
   "source": [
    "#### Optional extension"
   ]
  },
  {
   "cell_type": "code",
   "execution_count": 68,
   "metadata": {
    "deletable": false,
    "nbgrader": {
     "checksum": "683b2dc107d00c494b6c163c5ab6cfa8",
     "grade": false,
     "grade_id": "cell-7040c4053c72ce09",
     "locked": false,
     "schema_version": 1,
     "solution": true
    }
   },
   "outputs": [
    {
     "name": "stdout",
     "output_type": "stream",
     "text": [
      "CHU\n",
      "CL 655\n"
     ]
    }
   ],
   "source": [
    "max_stu = 0\n",
    "max_col = \"Christ's\"\n",
    "\n",
    "for col in name_to_many:\n",
    "    if name_to_many[col][\"Total number students\"] > max_stu:\n",
    "        max_col = col\n",
    "        max_stu = name_to_many[col][\"Total number students\"]\n",
    "print(name_to_many[max_col][\"College abbreviation\"])\n",
    "\n",
    "old_year = 100000\n",
    "old_col = \"Christ's\"\n",
    "\n",
    "for col in name_to_many:\n",
    "    if name_to_many[col][\"Year of foundation\"] < old_year:\n",
    "        old_col = col\n",
    "        old_year = name_to_many[col][\"Year of foundation\"]\n",
    "print(name_to_many[old_col][\"College abbreviation\"], name_to_many[old_col][\"Total number students\"])"
   ]
  },
  {
   "cell_type": "code",
   "execution_count": null,
   "metadata": {
    "collapsed": true
   },
   "outputs": [],
   "source": []
  }
 ],
 "metadata": {
  "kernelspec": {
   "display_name": "Python 3",
   "language": "python",
   "name": "python3"
  },
  "language_info": {
   "codemirror_mode": {
    "name": "ipython",
    "version": 3
   },
   "file_extension": ".py",
   "mimetype": "text/x-python",
   "name": "python",
   "nbconvert_exporter": "python",
   "pygments_lexer": "ipython3",
   "version": "3.5.1"
  }
 },
 "nbformat": 4,
 "nbformat_minor": 1
}
