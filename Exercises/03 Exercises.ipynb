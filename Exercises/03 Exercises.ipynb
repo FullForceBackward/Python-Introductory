{
 "cells": [
  {
   "cell_type": "markdown",
   "metadata": {
    "deletable": false,
    "editable": false,
    "nbgrader": {
     "checksum": "5602d7cf60d1227e8aa02a89f63d0bed",
     "grade": false,
     "grade_id": "cell-bccc9a5624d0e0f9",
     "locked": true,
     "schema_version": 1,
     "solution": false
    }
   },
   "source": [
    "## Exercise 03.1\n",
    "\n",
    "Compare the computed values of \n",
    "\n",
    "$$ \n",
    "d_0 = a \\cdot b + a  \\cdot  c\n",
    "$$\n",
    "\n",
    "and \n",
    "\n",
    "$$ \n",
    "d_1 = a \\cdot (b + c)\n",
    "$$\n",
    "\n",
    "when $a = 100$, $b = 0.1$ and $c = 0.2$. Store $d_{0}$ in the variable `d0` and $d_{1}$ in the variable `d1`.\n",
    "\n",
    "\n",
    "Try check for equality, e.g. `print(d0 == d1)`. "
   ]
  },
  {
   "cell_type": "code",
   "execution_count": 2,
   "metadata": {
    "deletable": false,
    "nbgrader": {
     "checksum": "30e30b82e08f44a2f3f834314203be69",
     "grade": false,
     "grade_id": "cell-447110c225124fc4",
     "locked": false,
     "schema_version": 1,
     "solution": true
    }
   },
   "outputs": [
    {
     "name": "stdout",
     "output_type": "stream",
     "text": [
      "-0.000000000000003552713678800501\n",
      "False\n"
     ]
    }
   ],
   "source": [
    "# checking for round of error for decimals\n",
    "a = 100\n",
    "b = 0.1\n",
    "c = 0.2\n",
    "d0 = a*b + a*c\n",
    "d1 = a*(b + c)\n",
    "\n",
    "print(\"%.30f\"%(d0 - d1))\n",
    "print(d0 == d1)"
   ]
  },
  {
   "cell_type": "code",
   "execution_count": null,
   "metadata": {
    "collapsed": true,
    "deletable": false,
    "editable": false,
    "nbgrader": {
     "checksum": "56a58c181d43d8dbad56dff6ed45377a",
     "grade": true,
     "grade_id": "cell-91f2d89d88ea86c0",
     "locked": true,
     "points": 0,
     "schema_version": 1,
     "solution": false
    }
   },
   "outputs": [],
   "source": [
    "assert d0 == 30.0\n",
    "assert d1 != 30.0\n",
    "assert d0 != d1"
   ]
  },
  {
   "cell_type": "markdown",
   "metadata": {},
   "source": [
    "## Exercise 03.2\n",
    "\n",
    "For the polynomial \n",
    "\\begin{align}\n",
    "f(x, y) &= (x + y)^{6} \n",
    "\\\\\n",
    "&=  x^6 + 6x^{5}y + 15x^{4}y^{2} + 20x^{3}y^{3} + 15x^{2}y^{4} + 6xy^{5} + y^{6}\n",
    "\\end{align}\n",
    "compute $f$ using: (a) the compact form $(x + y)^{6}$; and (b) the expanded form for:\n",
    "\n",
    "- $x = 10$ and $y = 10.1$\n",
    "- $x = 10$ and $y = -10.1$\n",
    "\n",
    "and compare the number of significant digits for which the answers are the same.\n",
    "Store the answer for the first case using the variable `f0` **this should be _f1_ I bet?**, and using the variable `f1` **_f2_?**for the second case.\n",
    "\n",
    "For the second case, compare the computed and analytical solutions.\n",
    "Which approach would you recommend for computing this expression?"
   ]
  },
  {
   "cell_type": "markdown",
   "metadata": {},
   "source": [
    "#### (a) $x = 10$ and $y = 10.1$"
   ]
  },
  {
   "cell_type": "code",
   "execution_count": 8,
   "metadata": {
    "deletable": false,
    "nbgrader": {
     "checksum": "908f40d0d9b9a84a5daeb5f1d2a18a3c",
     "grade": false,
     "grade_id": "cell-e8428e3de87d5500",
     "locked": false,
     "schema_version": 1,
     "solution": true
    }
   },
   "outputs": [
    {
     "name": "stdout",
     "output_type": "stream",
     "text": [
      "f0 is 65944160.601200997829437255859375000000 and f1 is 65944160.601201027631759643554687500000\n"
     ]
    }
   ],
   "source": [
    "def compact_f(x, y):\n",
    "    return (x + y)**6\n",
    "\n",
    "def expanded_f(x, y):\n",
    "    return x**6 + 6*x**5*y + 15*x**4*y**2 + 20*x**3*y**3 + 15*x**2*y**4 + 6*x*y**5 + y**6\n",
    "\n",
    "x = 10.0\n",
    "y = 10.1\n",
    "\n",
    "# testing the results\n",
    "f1 = compact_f(x, y)\n",
    "f0 = expanded_f(x, y)\n",
    "print(\"f0 is {0:.30f} and f1 is {1:.30f}\".format(f0, f1))"
   ]
  },
  {
   "cell_type": "code",
   "execution_count": 9,
   "metadata": {
    "collapsed": true,
    "deletable": false,
    "editable": false,
    "nbgrader": {
     "checksum": "c182329886082bef90dbfb9ba29eafa6",
     "grade": true,
     "grade_id": "cell-55d184514edf3a67",
     "locked": true,
     "points": 0,
     "schema_version": 1,
     "solution": false
    }
   },
   "outputs": [],
   "source": [
    "assert round(f0 - 65944160.601201, 10) == 0.0\n",
    "assert round(f1 - 65944160.60120103, 10) == 0.0"
   ]
  },
  {
   "cell_type": "markdown",
   "metadata": {},
   "source": [
    "#### (b) $x = 10$ and $y = -10.1$"
   ]
  },
  {
   "cell_type": "code",
   "execution_count": 10,
   "metadata": {
    "deletable": false,
    "nbgrader": {
     "checksum": "e36a4f376b117817ad05ca02c2bda3c6",
     "grade": false,
     "grade_id": "cell-1561d20281ff67f6",
     "locked": false,
     "schema_version": 1,
     "solution": true
    }
   },
   "outputs": [
    {
     "name": "stdout",
     "output_type": "stream",
     "text": [
      "f0 is 0.000000995816662907600402832031 and f1 is 0.000000999999999999978778924430\n"
     ]
    }
   ],
   "source": [
    "x = 10.0\n",
    "y = -10.1\n",
    "\n",
    "# testing the results\n",
    "f1 = compact_f(x, y)\n",
    "f0 = expanded_f(x, y)\n",
    "print(\"f0 is {0:.30f} and f1 is {1:.30f}\".format(f0, f1))"
   ]
  },
  {
   "cell_type": "code",
   "execution_count": 12,
   "metadata": {
    "collapsed": true
   },
   "outputs": [],
   "source": [
    "assert round(f0 - 1.0e-6, 2) == 0.0\n",
    "assert round(f1 - 1.0e-6, 8) == 0.0"
   ]
  },
  {
   "cell_type": "markdown",
   "metadata": {},
   "source": [
    "## Exercise 03.3\n",
    "\n",
    "Consider the expression\n",
    "\n",
    "$$\n",
    "f = \\frac{1}{\\sqrt{x^2 - 1} - x}\n",
    "$$\n",
    "\n",
    "When $x$ is very large, the denominator approaches zero, which can cause problems.\n",
    "\n",
    "Try rephrasing the problem and eliminating the fraction by multiplying the numerator and denominator by $\\sqrt{x^2 - 1} + x$ and evaluate the two versions of the expression when:\n",
    "\n",
    "- $x = 1 \\times 10^{7}$\n",
    "- $x = 1 \\times 10^{9}$ (You may get a Python error for this case. Why?)"
   ]
  },
  {
   "cell_type": "markdown",
   "metadata": {
    "deletable": false,
    "editable": false,
    "nbgrader": {
     "checksum": "c09b66f37bdee28ed52c52b6017f2cf2",
     "grade": false,
     "grade_id": "cell-53e1abf388eedabe",
     "locked": true,
     "schema_version": 1,
     "solution": false
    }
   },
   "source": [
    "#### (a) $x = 1 \\times 10^{7}$"
   ]
  },
  {
   "cell_type": "code",
   "execution_count": 1,
   "metadata": {
    "deletable": false,
    "nbgrader": {
     "checksum": "07ff77b706b18c392edfb815685a3bc3",
     "grade": true,
     "grade_id": "cell-149ac8791e7ff020",
     "locked": false,
     "points": 0,
     "schema_version": 1,
     "solution": true
    }
   },
   "outputs": [
    {
     "name": "stdout",
     "output_type": "stream",
     "text": [
      "x is:  10000000.0\n",
      "origin function gives: -19884107.851851850748062133789062500000 \n",
      "altered function gives: -19999999.999999947845935821533203125000\n"
     ]
    }
   ],
   "source": [
    "import numpy as np\n",
    "\n",
    "def f_origin(x):\n",
    "    return 1 / (np.sqrt(x**2 - 1) - x)\n",
    "\n",
    "def f_altered(x):\n",
    "    return - np.sqrt(x**2 - 1) - x\n",
    "\n",
    "def display_both(x):\n",
    "    print(\"x is: \", x, sep = \" \")\n",
    "    print(\"origin function gives: {0:.30f} \\naltered function gives: {1:.30f}\".format(f_origin(x), f_altered(x)))\n",
    "    \n",
    "display_both(1e7)"
   ]
  },
  {
   "cell_type": "markdown",
   "metadata": {
    "deletable": false,
    "editable": false,
    "nbgrader": {
     "checksum": "c2132f7f9da6593c6536e19435aeeab7",
     "grade": false,
     "grade_id": "cell-bcc863a1c5c8a6f8",
     "locked": true,
     "schema_version": 1,
     "solution": false
    }
   },
   "source": [
    "#### (b) $x = 1 \\times 10^{9}$"
   ]
  },
  {
   "cell_type": "code",
   "execution_count": 2,
   "metadata": {
    "deletable": false,
    "nbgrader": {
     "checksum": "c2e05e9fd5ffdd3901355b52c90169ba",
     "grade": true,
     "grade_id": "cell-4ef986ef1f5838ba",
     "locked": false,
     "points": 0,
     "schema_version": 1,
     "solution": true
    }
   },
   "outputs": [
    {
     "name": "stdout",
     "output_type": "stream",
     "text": [
      "x is:  100000000.0\n",
      "origin function gives: inf \n",
      "altered function gives: -200000000.000000000000000000000000000000\n"
     ]
    },
    {
     "name": "stderr",
     "output_type": "stream",
     "text": [
      "/home/nbuser/anaconda3_410/lib/python3.5/site-packages/ipykernel/__main__.py:4: RuntimeWarning: divide by zero encountered in double_scalars\n"
     ]
    }
   ],
   "source": [
    "display_both(1e8)"
   ]
  },
  {
   "cell_type": "code",
   "execution_count": null,
   "metadata": {
    "collapsed": true
   },
   "outputs": [],
   "source": []
  }
 ],
 "metadata": {
  "kernelspec": {
   "display_name": "Python 3",
   "language": "python",
   "name": "python3"
  },
  "language_info": {
   "codemirror_mode": {
    "name": "ipython",
    "version": 3
   },
   "file_extension": ".py",
   "mimetype": "text/x-python",
   "name": "python",
   "nbconvert_exporter": "python",
   "pygments_lexer": "ipython3",
   "version": "3.5.1"
  }
 },
 "nbformat": 4,
 "nbformat_minor": 1
}
