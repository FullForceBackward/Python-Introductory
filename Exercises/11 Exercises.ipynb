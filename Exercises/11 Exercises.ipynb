{
 "cells": [
  {
   "cell_type": "markdown",
   "metadata": {
    "collapsed": true
   },
   "source": [
    "Import the modules that will be used."
   ]
  },
  {
   "cell_type": "code",
   "execution_count": 1,
   "metadata": {},
   "outputs": [
    {
     "name": "stderr",
     "output_type": "stream",
     "text": [
      "/home/nbuser/anaconda3_420/lib/python3.5/site-packages/matplotlib/font_manager.py:273: UserWarning: Matplotlib is building the font cache using fc-list. This may take a moment.\n",
      "  warnings.warn('Matplotlib is building the font cache using fc-list. This may take a moment.')\n",
      "/home/nbuser/anaconda3_420/lib/python3.5/site-packages/matplotlib/font_manager.py:273: UserWarning: Matplotlib is building the font cache using fc-list. This may take a moment.\n",
      "  warnings.warn('Matplotlib is building the font cache using fc-list. This may take a moment.')\n"
     ]
    }
   ],
   "source": [
    "import numpy as np\n",
    "import matplotlib\n",
    "import matplotlib.pyplot as plt\n",
    "\n",
    "%matplotlib inline"
   ]
  },
  {
   "cell_type": "markdown",
   "metadata": {
    "deletable": false,
    "editable": false,
    "nbgrader": {
     "checksum": "1edc226b40602fb86b89bc96c778bd2e",
     "grade": false,
     "grade_id": "cell-f3291e5d760308db",
     "locked": true,
     "schema_version": 1,
     "solution": false
    }
   },
   "source": [
    "## Exercise 11.1\n",
    "\n",
    "Determine by counting the number of mathematical operations the complexity of:\n",
    "\n",
    "1. Dot product between two vectors\n",
    "1. Matrix-vector product\n",
    "1. Matrix-matrix product\n",
    "\n",
    "for vectors of length $n$ and matrices of size $n \\times n$.\n",
    "\n",
    "This is a reasoning exercise - you do not need to write a program. Express your answers in text and using LaTeX in a Markdown cell.\n",
    "\n",
    "\n",
    "### Optional\n",
    "\n",
    "Test the complexity experimentally with your own functions for performing the operations, and\n",
    "with the NumPy 'vectorised' equivalents."
   ]
  },
  {
   "cell_type": "markdown",
   "metadata": {
    "collapsed": true,
    "deletable": false,
    "nbgrader": {
     "checksum": "62a921e42154198d66dc82641af170e2",
     "grade": true,
     "grade_id": "cell-8460df1e09d7f0e7",
     "locked": false,
     "points": 0,
     "schema_version": 1,
     "solution": true
    }
   },
   "source": [
    "YOUR ANSWER HERE\n",
    "1. dot product of two vectors involving 1 * 1 n times, which is n operations\n",
    "2. Matriox_vector product is essentially $n_{rows} * Op_{vecdot}$ which is $n^2$\n",
    "3. Matrix_matrix product is essentially $n_{cols} * Op_{matdot}$ which is $n^3$"
   ]
  },
  {
   "cell_type": "markdown",
   "metadata": {},
   "source": [
    "## Exercise 11.2\n",
    "\n",
    "For the recursive factorial algorithm in Activity 04, determine the algorithmic complexity by inspecting your implementation of the algorithm. Test this against numerical experiments."
   ]
  },
  {
   "cell_type": "markdown",
   "metadata": {},
   "source": [
    "### Solution"
   ]
  },
  {
   "cell_type": "markdown",
   "metadata": {},
   "source": [
    "Recall the factorial algorithm from Activity 04.4:"
   ]
  },
  {
   "cell_type": "code",
   "execution_count": 4,
   "metadata": {
    "collapsed": true
   },
   "outputs": [],
   "source": [
    "def factorial(n):\n",
    "    if n == 0:\n",
    "        return 1\n",
    "    else:\n",
    "        return factorial(n - 1)*n"
   ]
  },
  {
   "cell_type": "markdown",
   "metadata": {},
   "source": [
    "The function calls itself (recursively) $n$ times, hence it has complexity $O(n)$. We test this below and plot\n",
    "the times."
   ]
  },
  {
   "cell_type": "code",
   "execution_count": 9,
   "metadata": {
    "deletable": false,
    "nbgrader": {
     "checksum": "ac9c61aee9ad5e1348d3b3892814724e",
     "grade": false,
     "grade_id": "cell-99456b1178be2bfe",
     "locked": false,
     "schema_version": 1,
     "solution": true
    }
   },
   "outputs": [
    {
     "name": "stderr",
     "output_type": "stream",
     "text": [
      "/home/nbuser/anaconda3_420/lib/python3.5/site-packages/ipykernel/__main__.py:5: RuntimeWarning: overflow encountered in long_scalars\n",
      "/home/nbuser/anaconda3_420/lib/python3.5/site-packages/ipykernel/__main__.py:5: RuntimeWarning: overflow encountered in long_scalars\n",
      "/home/nbuser/anaconda3_420/lib/python3.5/site-packages/ipykernel/__main__.py:5: RuntimeWarning: overflow encountered in long_scalars\n",
      "/home/nbuser/anaconda3_420/lib/python3.5/site-packages/ipykernel/__main__.py:5: RuntimeWarning: overflow encountered in long_scalars\n",
      "/home/nbuser/anaconda3_420/lib/python3.5/site-packages/ipykernel/__main__.py:5: RuntimeWarning: overflow encountered in long_scalars\n"
     ]
    },
    {
     "data": {
      "text/plain": [
       "[<matplotlib.lines.Line2D at 0x7fa032f5f240>]"
      ]
     },
     "execution_count": 9,
     "metadata": {},
     "output_type": "execute_result"
    },
    {
     "data": {
      "image/png": "[encoded data removed]",
      "text/plain": [
       "<matplotlib.figure.Figure at 0x7fa032a3a780>"
      ]
     },
     "metadata": {},
     "output_type": "display_data"
    }
   ],
   "source": [
    "# Time the different implementations\n",
    "N = np.power(np.array([2]*10), np.arange(10))\n",
    "times = []\n",
    "for n in N:\n",
    "    # Time our quicksort implememtation\n",
    "    t = %timeit -n3 -q -o factorial(n)\n",
    "    times.append(t.best)\n",
    "\n",
    "plt.loglog(N, times, marker='o', label='recursive factorial')\n",
    "plt.loglog(N, N*1e-6, '--')"
   ]
  },
  {
   "cell_type": "markdown",
   "metadata": {},
   "source": [
    "## Exercise 11.3\n",
    "\n",
    "Determine experimentally the complexity of computing the determinant of a matrix. You can generate an $n \\times n$ matrix using:"
   ]
  },
  {
   "cell_type": "code",
   "execution_count": null,
   "metadata": {
    "collapsed": true
   },
   "outputs": [],
   "source": [
    "n = 100\n",
    "A = np.random.rand(n, n)"
   ]
  },
  {
   "cell_type": "markdown",
   "metadata": {},
   "source": [
    "and the determinant can be computed by:"
   ]
  },
  {
   "cell_type": "code",
   "execution_count": null,
   "metadata": {
    "collapsed": true
   },
   "outputs": [],
   "source": [
    "det = np.linalg.slogdet(A)"
   ]
  },
  {
   "cell_type": "markdown",
   "metadata": {},
   "source": [
    "Be sure that you test for sufficiently large $n$ to get into the 'large' $n$ regime."
   ]
  },
  {
   "cell_type": "markdown",
   "metadata": {
    "collapsed": true
   },
   "source": [
    "### Solution"
   ]
  },
  {
   "cell_type": "markdown",
   "metadata": {},
   "source": [
    "Time computation of determinant:"
   ]
  },
  {
   "cell_type": "code",
   "execution_count": 3,
   "metadata": {
    "deletable": false,
    "nbgrader": {
     "checksum": "0b0d621ce3dc60bcd922f628646b0329",
     "grade": false,
     "grade_id": "cell-64f74c9716976d38",
     "locked": false,
     "schema_version": 1,
     "solution": true
    }
   },
   "outputs": [
    {
     "data": {
      "text/plain": [
       "[<matplotlib.lines.Line2D at 0x7f06d6acc5c0>]"
      ]
     },
     "execution_count": 3,
     "metadata": {},
     "output_type": "execute_result"
    },
    {
     "data": {
      "image/png": "[encoded data removed]",
      "text/plain": [
       "<matplotlib.figure.Figure at 0x7f06ddc24fd0>"
      ]
     },
     "metadata": {},
     "output_type": "display_data"
    }
   ],
   "source": [
    "# Create array of problem sizes we want to test (powers of 2)\n",
    "N = 2**np.arange(2, 12)\n",
    "# n_f = np.array([factorial(n) for n in N])\n",
    "\n",
    "times = []\n",
    "for n in N:\n",
    "    # Time our quicksort implememtation\n",
    "    A = np.random.rand(n, n)\n",
    "    t = %timeit -n3 -q -o det = np.linalg.slogdet(A)\n",
    "    times.append(t.best)\n",
    "\n",
    "plt.loglog(N, times, marker='o', label='det')\n",
    "plt.loglog(N, 1e-6*1*N**3/2, '--')"
   ]
  },
  {
   "cell_type": "markdown",
   "metadata": {},
   "source": [
    "Plot result:"
   ]
  },
  {
   "cell_type": "code",
   "execution_count": null,
   "metadata": {
    "collapsed": true,
    "deletable": false,
    "nbgrader": {
     "checksum": "3f6362a9a7dc358b5987cd42aff7d063",
     "grade": false,
     "grade_id": "cell-4e4b2cc52b08f077",
     "locked": false,
     "schema_version": 1,
     "solution": true
    }
   },
   "outputs": [],
   "source": [
    "# YOUR CODE HERE\n",
    "raise NotImplementedError()"
   ]
  }
 ],
 "metadata": {
  "kernelspec": {
   "display_name": "Python 3",
   "language": "python",
   "name": "python3"
  },
  "language_info": {
   "codemirror_mode": {
    "name": "ipython",
    "version": 3
   },
   "file_extension": ".py",
   "mimetype": "text/x-python",
   "name": "python",
   "nbconvert_exporter": "python",
   "pygments_lexer": "ipython3",
   "version": "3.5.2"
  }
 },
 "nbformat": 4,
 "nbformat_minor": 1
}
