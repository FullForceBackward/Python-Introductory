{
 "cells": [
  {
   "cell_type": "markdown",
   "metadata": {},
   "source": [
    "# Preview Material for Advanced Machine Learning Application Course\n",
    "\n",
    "This is the introductory notebook for the first week preview material for 2020 TechX Advanced Machine Learning Application Course."
   ]
  },
  {
   "cell_type": "markdown",
   "metadata": {},
   "source": [
    "# Structure\n",
    "\n",
    "The main purpose for the first week of preview material, is to get you (re-)familiar with using Python 3 for scientific computing. The following topics will be covered in their respective notebooks.\n",
    "\n",
    "1. Variables, assignment and operator precedence\n",
    "1. Control statements\n",
    "1. Types, type conversions and floating point arithmetic\n",
    "1. Functions\n",
    "1. Library functions\n",
    "1. Data structures\n",
    "1. Numerical computation\n",
    "1. Plotting\n",
    "1. Algorithms\n",
    "1. Complexity\n",
    "1. Object-oriented design\n",
    "\n",
    "The notebooks are designed to be completed in order.\n",
    "\n",
    "- Read through a notebook, and change parts of the programs if you want to experiment with what \n",
    "  happens - this will help your understanding. \n",
    "- Complete the exercises for the notebook before moving onto the next activity.\n",
    "\n",
    "__Be Advised__ The first 6 notebooks covers the basics of Python, and should be fairly straightforward for you. A quick workthrough is possible for those experienced Python users. However, if you are not yet familiar with Python, do take your time to digest these materials, as they will become the most basic foundation for the following weeks of preview material as well as our main lectures."
   ]
  },
  {
   "cell_type": "markdown",
   "metadata": {},
   "source": [
    "# Get Help\n",
    "\n",
    "Apart from the standard ways of getting help from us, you are encouraged to try several times in a temporary jupyter notebook cell first. If you are still stuck, do make sure you tap into the resource of Internet. __*Mastering Google*__ is a virtue for any type of coders."
   ]
  }
 ],
 "metadata": {
  "kernelspec": {
   "display_name": "data_analysis",
   "language": "python",
   "name": "data_analysis"
  },
  "language_info": {
   "codemirror_mode": {
    "name": "ipython",
    "version": 3
   },
   "file_extension": ".py",
   "mimetype": "text/x-python",
   "name": "python",
   "nbconvert_exporter": "python",
   "pygments_lexer": "ipython3",
   "version": "3.7.7"
  }
 },
 "nbformat": 4,
 "nbformat_minor": 1
}
